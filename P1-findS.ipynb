{
 "cells": [
  {
   "cell_type": "code",
   "execution_count": 3,
   "metadata": {},
   "outputs": [
    {
     "name": "stdout",
     "output_type": "stream",
     "text": [
      "Dataset: \n",
      "      sky  temp   humid    wind water forecast play\n",
      "0  sunny  warm  normal  strong  warm     same  yes\n",
      "1  sunny  warm    high  strong  warm     same  yes\n",
      "2  rainy  cold    high  strong  warm   change   no\n",
      "3  sunny  warm    high  strong  cool   change  yes\n",
      "\n",
      "Final Hypothesis: \n",
      " ['sunny', 'warm', '?', 'strong', '?', '?']\n"
     ]
    }
   ],
   "source": [
    "# The comments provided are simply for better understanding. It'll help in VIVA too :p\n",
    "# The objective of FindS Algorithm is to find one most Specific hypothesis\n",
    "import pandas as pd           # pandas is for datasets\n",
    "import numpy as nm            # numpy is for manipulating arrays\n",
    "\n",
    "def findS(data):         \n",
    "    (nr,nc) = data.shape      # data.shape returns num of rows and columns in the data\n",
    "    hyp = ['0'] * (nc-1)      # Initialize hyp to be all 0s [0,0,0,0,0,0] Its nc-1, as we dont consider last column\n",
    "    for row in range (nr):                  # As long as new row exists in our dataset\n",
    "        if data.iloc[row,-1] == 'yes':      # If the last column value of that row  is 'yes' (In FindS, we only consider positive examples)\n",
    "            for col in range(nc-1):         # Consider all attributes(columns) except last(target func) of that row entry\n",
    "                if hyp[col] == '0':         \n",
    "                    hyp[col] = data.iloc[row,col]   \n",
    "                elif hyp[col] != data.iloc[row,col]:          # If hyp[attribute] != data[row][attribute] (Dont replace the comment in the code)\n",
    "                    hyp[col] = '?'                            # Generalize\n",
    "    return hyp\n",
    "                    \n",
    "data = pd.read_csv('ds/lab1.csv')\n",
    "print(\"Dataset: \\n\",data)\n",
    "lis = findS(data)\n",
    "print(\"\\nFinal Hypothesis: \\n\",lis)\n"
   ]
  },
  {
   "cell_type": "code",
   "execution_count": null,
   "metadata": {},
   "outputs": [],
   "source": []
  },
  {
   "cell_type": "code",
   "execution_count": null,
   "metadata": {},
   "outputs": [],
   "source": []
  }
 ],
 "metadata": {
  "kernelspec": {
   "display_name": "Python 3",
   "language": "python",
   "name": "python3"
  },
  "language_info": {
   "codemirror_mode": {
    "name": "ipython",
    "version": 3
   },
   "file_extension": ".py",
   "mimetype": "text/x-python",
   "name": "python",
   "nbconvert_exporter": "python",
   "pygments_lexer": "ipython3",
   "version": "3.6.5"
  }
 },
 "nbformat": 4,
 "nbformat_minor": 2
}
