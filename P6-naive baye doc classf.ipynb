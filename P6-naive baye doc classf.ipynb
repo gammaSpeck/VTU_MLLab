{
 "cells": [
  {
   "cell_type": "code",
   "execution_count": null,
   "metadata": {},
   "outputs": [],
   "source": [
    "# This is a Algorithm for sentiment analysis. Able to distinguish between positive and negative reviews.\n",
    "from sklearn import metrics\n",
    "import pandas as pd\n",
    "\n",
    "msg = pd.read_csv('ds/lab6.csv',names=['message','label'])\n",
    "print('The dimensions of the dataset was',msg.shape)    # Just tells num of rows and columns\n",
    "msg['labelnum'] = msg.label.map({'pos':1,'neg':0})  # Just makes the + & - to 0 & 1 in attrb labelnum \n",
    "X = msg.message  # just contains the msg part\n",
    "Y = msg.labelnum # Contains 0:neg and 1:pos values for their respective comments in this new column \n",
    "print(msg)\n",
    "print(\"\\nNow dimensions are \",msg.shape) "
   ]
  },
  {
   "cell_type": "code",
   "execution_count": null,
   "metadata": {},
   "outputs": [],
   "source": [
    "#splitting the dataset into train and test data\n",
    "# \"train_test_split\" is a simple func to easily split dataset into training and testing sections\n",
    "from sklearn.model_selection import train_test_split \n",
    "xtrain,xtest,ytrain,ytest = train_test_split(X,Y) # The split is random with approx 67% examples for training\n",
    "print(xtrain) # Just for you to see the training set "
   ]
  },
  {
   "cell_type": "code",
   "execution_count": null,
   "metadata": {},
   "outputs": [],
   "source": [
    "print(ytest)"
   ]
  },
  {
   "cell_type": "code",
   "execution_count": null,
   "metadata": {},
   "outputs": [],
   "source": [
    "# Output of count vectoriser is a sparse matrix\n",
    "from sklearn.feature_extraction.text import CountVectorizer\n",
    "count_vect = CountVectorizer()                # This is the model we are gonna train !!\n",
    "xtrain_dtm = count_vect.fit_transform(xtrain) # We're modifying(transforming) training data to train OUR model later\n",
    "xtest_dtm = count_vect.transform(xtest)       # We're modifying(transforming) testing data to be tested later\n",
    "print(count_vect.get_feature_names())        # We're printing all encountered words in the xtrain once\n",
    "print()\n",
    "\n",
    "# We now make a dataframe with columns representind the word and the row has a 0 or a 1 depending on\n",
    "# if that word appeared in that sentence or not\n",
    "df = pd.DataFrame(xtrain_dtm.toarray(), columns=count_vect.get_feature_names())\n",
    "print(df)"
   ]
  },
  {
   "cell_type": "code",
   "execution_count": null,
   "metadata": {},
   "outputs": [],
   "source": [
    "from sklearn.naive_bayes import MultinomialNB    # This is OUR Model\n",
    "\n",
    "clf = MultinomialNB().fit(xtrain_dtm,ytrain)     # Fitting the model with our modified training data\n",
    "predicted = clf.predict(xtest_dtm)               # Stores the predictions \n",
    "\n",
    "#printing accuracy metrics\n",
    "from sklearn import metrics\n",
    "# Accuracy is measured by comparing actual values to predicted\n",
    "print('Accuracy of the classifier is ',metrics.accuracy_score(ytest,predicted))\n",
    "print('Confusion matrix\\n', metrics.confusion_matrix(ytest,predicted))\n",
    "print('\\nRecall and precison ')\n",
    "print(metrics.recall_score(ytest,predicted))\n",
    "print(metrics.precision_score(ytest,predicted))"
   ]
  },
  {
   "cell_type": "code",
   "execution_count": null,
   "metadata": {},
   "outputs": [],
   "source": []
  },
  {
   "cell_type": "code",
   "execution_count": null,
   "metadata": {},
   "outputs": [],
   "source": []
  }
 ],
 "metadata": {
  "kernelspec": {
   "display_name": "Python 3",
   "language": "python",
   "name": "python3"
  },
  "language_info": {
   "codemirror_mode": {
    "name": "ipython",
    "version": 3
   },
   "file_extension": ".py",
   "mimetype": "text/x-python",
   "name": "python",
   "nbconvert_exporter": "python",
   "pygments_lexer": "ipython3",
   "version": "3.6.5"
  }
 },
 "nbformat": 4,
 "nbformat_minor": 2
}
