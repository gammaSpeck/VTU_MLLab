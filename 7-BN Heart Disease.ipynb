{
 "cells": [
  {
   "cell_type": "code",
   "execution_count": 69,
   "metadata": {},
   "outputs": [
    {
     "name": "stdout",
     "output_type": "stream",
     "text": [
      "Input Data and Shape\n",
      "(243, 9)\n",
      "   A  G  CP  BP  CH  ECG  HR  EIA  HD\n",
      "0  3  2   1   2   2    2   2    1   1\n",
      "1  3  2   4   1   2    2   1    2   2\n",
      "2  1  2   3   2   2    1   2    1   1\n",
      "3  3  2   2   1   2    1   2    1   1\n",
      "4  3  1   4   2   2    2   2    1   2\n",
      "\n",
      "Learning CPDs using Maximum Likelihood Estimators...\n",
      "\n",
      "1.Probability of HeartDisease given Gender=Female\n",
      "╒══════╤═══════════╕\n",
      "│ HD   │   phi(HD) │\n",
      "╞══════╪═══════════╡\n",
      "│ HD_0 │    0.5556 │\n",
      "├──────┼───────────┤\n",
      "│ HD_1 │    0.4444 │\n",
      "╘══════╧═══════════╛\n",
      "\n",
      "2. Probability of HeartDisease given BP= Low\n",
      "╒══════╤═══════════╕\n",
      "│ HD   │   phi(HD) │\n",
      "╞══════╪═══════════╡\n",
      "│ HD_0 │    0.5307 │\n",
      "├──────┼───────────┤\n",
      "│ HD_1 │    0.4693 │\n",
      "╘══════╧═══════════╛\n"
     ]
    }
   ],
   "source": [
    "import numpy as np\n",
    "import pandas as pd\n",
    "import csv\n",
    "\n",
    "from pgmpy.estimators import MaximumLikelihoodEstimator\n",
    "from pgmpy.models import BayesianModel\n",
    "from pgmpy.inference import VariableElimination                       # Read the attributes\n",
    "\n",
    "raw_data = pd.read_csv('ds/lab7.csv')\n",
    "print(\"Input Data and Shape\")\n",
    "print(raw_data.shape)\n",
    "print(raw_data.head())\n",
    "data = pd.DataFrame(raw_data,columns=['A', 'G', 'CP','BP','CH','ECG','HR','EIA','HD']) # Look at head and figure out the names\n",
    "\n",
    "data_train = data[: int(data.shape[0] * 0.80)]  # Select the train data\n",
    "\n",
    "\n",
    "# Creating the baysian network - These pairs are min that's required to get same answer\n",
    "model = BayesianModel([('G', 'BP'),('BP','HD'),('CH', 'HD')])\n",
    "\n",
    "print('\\nLearning CPDs using Maximum Likelihood Estimators...');\n",
    "model.fit(data, estimator = MaximumLikelihoodEstimator)\n",
    "\n",
    "# Inferencing with Bayesian Network\n",
    "print('\\nInferencing with Bayesian Network:')\n",
    "HeartDisease_infer = VariableElimination(model)\n",
    "for cpd in model.get_cpds():\n",
    "    print(\"CPD of {variable}:\".format(variable=cpd.variable))\n",
    "    print(cpd)\n",
    "    print(model.check_model())\n",
    "#Computing the probability of HD given as a Vairiable.\n",
    "print('\\n1.Probability of HeartDisease given Gender=Female')\n",
    "\n",
    "q= HeartDisease_infer.query(variables=['HD'],evidence={'G': 1})\n",
    "print(q['HD'])\n",
    "\n",
    "print('\\n2. Probability of HeartDisease given BP= Low')\n",
    "\n",
    "q= HeartDisease_infer.query(variables=['HD'], evidence={'BP': 1})\n",
    "print(q['HD'])"
   ]
  },
  {
   "cell_type": "code",
   "execution_count": null,
   "metadata": {},
   "outputs": [],
   "source": []
  }
 ],
 "metadata": {
  "kernelspec": {
   "display_name": "Python 3",
   "language": "python",
   "name": "python3"
  },
  "language_info": {
   "codemirror_mode": {
    "name": "ipython",
    "version": 3
   },
   "file_extension": ".py",
   "mimetype": "text/x-python",
   "name": "python",
   "nbconvert_exporter": "python",
   "pygments_lexer": "ipython3",
   "version": "3.6.5"
  }
 },
 "nbformat": 4,
 "nbformat_minor": 2
}
