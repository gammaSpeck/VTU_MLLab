{
 "cells": [
  {
   "cell_type": "code",
   "execution_count": null,
   "metadata": {},
   "outputs": [],
   "source": [
    "import numpy as np                           # For arrays\n",
    "import pandas as pd                          # For datasets\n",
    "from matplotlib import pyplot as plt         # For graphs\n",
    "from sklearn.mixture import GaussianMixture  # This is a GMM model\n",
    "from sklearn.cluster import KMeans           # Another model called Kmeans"
   ]
  },
  {
   "cell_type": "code",
   "execution_count": 172,
   "metadata": {},
   "outputs": [
    {
     "name": "stdout",
     "output_type": "stream",
     "text": [
      "Input Data and Shape\n",
      " (3000, 2)\n"
     ]
    },
    {
     "data": {
      "text/html": [
       "<div>\n",
       "<style scoped>\n",
       "    .dataframe tbody tr th:only-of-type {\n",
       "        vertical-align: middle;\n",
       "    }\n",
       "\n",
       "    .dataframe tbody tr th {\n",
       "        vertical-align: top;\n",
       "    }\n",
       "\n",
       "    .dataframe thead th {\n",
       "        text-align: right;\n",
       "    }\n",
       "</style>\n",
       "<table border=\"1\" class=\"dataframe\">\n",
       "  <thead>\n",
       "    <tr style=\"text-align: right;\">\n",
       "      <th></th>\n",
       "      <th>V1</th>\n",
       "      <th>V2</th>\n",
       "    </tr>\n",
       "  </thead>\n",
       "  <tbody>\n",
       "    <tr>\n",
       "      <th>0</th>\n",
       "      <td>2.072345</td>\n",
       "      <td>-3.241693</td>\n",
       "    </tr>\n",
       "    <tr>\n",
       "      <th>1</th>\n",
       "      <td>17.936710</td>\n",
       "      <td>15.784810</td>\n",
       "    </tr>\n",
       "    <tr>\n",
       "      <th>2</th>\n",
       "      <td>1.083576</td>\n",
       "      <td>7.319176</td>\n",
       "    </tr>\n",
       "    <tr>\n",
       "      <th>3</th>\n",
       "      <td>11.120670</td>\n",
       "      <td>14.406780</td>\n",
       "    </tr>\n",
       "    <tr>\n",
       "      <th>4</th>\n",
       "      <td>23.711550</td>\n",
       "      <td>2.557729</td>\n",
       "    </tr>\n",
       "  </tbody>\n",
       "</table>\n",
       "</div>"
      ],
      "text/plain": [
       "          V1         V2\n",
       "0   2.072345  -3.241693\n",
       "1  17.936710  15.784810\n",
       "2   1.083576   7.319176\n",
       "3  11.120670  14.406780\n",
       "4  23.711550   2.557729"
      ]
     },
     "execution_count": 172,
     "metadata": {},
     "output_type": "execute_result"
    }
   ],
   "source": [
    "# Importing the dataset\n",
    "data = pd.read_csv(\"ds/lab8.csv\")  \n",
    "#print(data)\n",
    "print(\"Input Data and Shape\\n\",data.shape)           # This shows num of rows 4 columns\n",
    "data.head()                                          # data.head() shows just the top 5 entries"
   ]
  },
  {
   "cell_type": "code",
   "execution_count": 173,
   "metadata": {},
   "outputs": [
    {
     "name": "stdout",
     "output_type": "stream",
     "text": [
      "[ 2.072345 17.93671   1.083576 ... 64.46532  90.72282  64.87976 ]\n",
      "[[  2.072345  -3.241693]\n",
      " [ 17.93671   15.78481 ]\n",
      " [  1.083576   7.319176]\n",
      " ...\n",
      " [ 64.46532  -10.50136 ]\n",
      " [ 90.72282  -12.25584 ]\n",
      " [ 64.87976  -24.87731 ]]\n"
     ]
    },
    {
     "data": {
      "image/png": "[encoded data removed]",
      "text/plain": [
       "<Figure size 432x288 with 1 Axes>"
      ]
     },
     "metadata": {},
     "output_type": "display_data"
    }
   ],
   "source": [
    "# Getting the values and plotting it\n",
    "f1 = data['V1'].values                                # Just seperating the values V1 from data to f1\n",
    "f2 = data['V2'].values                                # Just seperating the values V2 from data to f2\n",
    "#print(f1)\n",
    "X = np.array(list(zip(f1, f2))) # Makes an array of lists with 2 elms each. If zip is not there, it just makes 2 lists\n",
    "print(X)\n",
    "plt.scatter(f1, f2, c='blue', s=10) # Just mark the points in f1 & f2 in blue with point size 5\n",
    "plt.show()"
   ]
  },
  {
   "cell_type": "code",
   "execution_count": null,
   "metadata": {},
   "outputs": [],
   "source": [
    "# Here we're using Kmeans to cluster the points\n",
    "kmeans = KMeans(3, random_state=0)       # Create the model with cluster number=3\n",
    "labels = kmeans.fit(X).predict(X)        # Store the labels of each point \n",
    "centroids = kmeans.cluster_centers_      # Store the centriods in the variable centroids\n",
    "# Plot all points onto graph with color corresponding to their label and point size=20 \n",
    "plt.scatter(X[:, 0], X[:, 1], c=labels, s=20, cmap='viridis');     \n",
    "plt.scatter(centroids[:, 0], centroids[:, 1], marker='*', s=200, c='blue') # Plot centriods on graph\n",
    "plt.show()"
   ]
  },
  {
   "cell_type": "code",
   "execution_count": null,
   "metadata": {},
   "outputs": [],
   "source": [
    "# Here we're using the Gaussian Mixture to cluster\n",
    "gmm = GaussianMixture(n_components=3).fit(X)\n",
    "labels = gmm.predict(X)\n",
    "# For ploting\n",
    "probs = gmm.predict_proba(X)                           # GMM only is used for the size of the points\n",
    "size = 10 * probs.max(1) ** 3                        # See, this is where the size of points are set acc to probabilities\n",
    "plt.scatter(X[:, 0], X[:, 1], c=labels, s=size);\n",
    "plt.show()"
   ]
  },
  {
   "cell_type": "code",
   "execution_count": null,
   "metadata": {},
   "outputs": [],
   "source": []
  },
  {
   "cell_type": "code",
   "execution_count": null,
   "metadata": {},
   "outputs": [],
   "source": []
  }
 ],
 "metadata": {
  "kernelspec": {
   "display_name": "Python 3",
   "language": "python",
   "name": "python3"
  },
  "language_info": {
   "codemirror_mode": {
    "name": "ipython",
    "version": 3
   },
   "file_extension": ".py",
   "mimetype": "text/x-python",
   "name": "python",
   "nbconvert_exporter": "python",
   "pygments_lexer": "ipython3",
   "version": "3.6.5"
  }
 },
 "nbformat": 4,
 "nbformat_minor": 2
}
