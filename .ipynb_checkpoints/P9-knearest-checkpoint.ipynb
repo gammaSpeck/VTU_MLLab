{
 "cells": [
  {
   "cell_type": "code",
   "execution_count": 8,
   "metadata": {},
   "outputs": [
    {
     "name": "stdout",
     "output_type": "stream",
     "text": [
      "kNN model accuracy: 0.9473684210526315\n",
      "\n",
      "    PREDICTED       ACTUAL\n",
      "0   setosa       setosa\n",
      "1   setosa       setosa\n",
      "2   setosa       setosa\n",
      "3   versicolor       versicolor\n",
      "4   versicolor       versicolor\n",
      "5   versicolor       versicolor\n",
      "6   virginica       virginica\n",
      "7   setosa       setosa\n",
      "8   virginica       virginica\n",
      "9   versicolor       versicolor\n",
      "10   versicolor       versicolor\n",
      "11   versicolor       versicolor\n",
      "12   virginica       virginica\n",
      "13   versicolor       versicolor\n",
      "14   setosa       setosa\n",
      "15   setosa       setosa\n",
      "16   virginica       virginica\n",
      "17   versicolor       versicolor\n",
      "18   virginica       virginica\n",
      "19   setosa       setosa\n",
      "20   setosa       setosa\n",
      "21   virginica       virginica\n",
      "22   versicolor       versicolor\n",
      "23   setosa       setosa\n",
      "24   versicolor       virginica\n",
      "25   virginica       virginica\n",
      "26   virginica       virginica\n",
      "27   setosa       setosa\n",
      "28   versicolor       versicolor\n",
      "29   virginica       virginica\n",
      "30   versicolor       virginica\n",
      "31   setosa       setosa\n",
      "32   setosa       setosa\n",
      "33   setosa       setosa\n",
      "34   versicolor       versicolor\n",
      "35   versicolor       versicolor\n",
      "36   setosa       setosa\n",
      "37   virginica       virginica\n"
     ]
    }
   ],
   "source": [
    "from sklearn.datasets import load_iris              # Load the dataset\n",
    "iris = load_iris()                                  # Store dataset in variable iris\n",
    "\n",
    "# Store the feature matrix (X) and response vector (y)\n",
    "X = iris.data\n",
    "y = iris.target\n",
    "\n",
    "# Splitting X and y into training and testing sets\n",
    "from sklearn.model_selection import train_test_split\n",
    "X_train, X_test, y_train, y_test = train_test_split(X, y, test_size=0.4, random_state=1)\n",
    "\n",
    "# Training the model on training set\n",
    "from sklearn.neighbors import KNeighborsClassifier\n",
    "knn = KNeighborsClassifier(n_neighbors=3)\n",
    "knn.fit(X_train, y_train)                          # Fit the model with training data\n",
    "\n",
    "# Making predictions on the testing set\n",
    "y_pred = knn.predict(X_test)\n",
    "\n",
    "# Comparing actual response values (y_test) with predicted response values (y_pred)\n",
    "from sklearn import metrics\n",
    "print(\"kNN model accuracy:\",metrics.accuracy_score(y_test, y_pred))\n",
    "\n",
    "# Printing output of entire test_dataset\n",
    "preds = knn.predict(X_test)\n",
    "pred_species = [iris.target_names[p] for p in preds]\n",
    "pred_species1 = [iris.target_names[p] for p in y_test]\n",
    "\n",
    "print(\"\\n \",\" \",'PREDICTED',\"     \",'ACTUAL')\n",
    "for i in range(len(X_test)):\n",
    "    print(i, \" \", pred_species[i], \"     \", pred_species1[i])"
   ]
  },
  {
   "cell_type": "code",
   "execution_count": null,
   "metadata": {},
   "outputs": [],
   "source": []
  }
 ],
 "metadata": {
  "kernelspec": {
   "display_name": "Python 3",
   "language": "python",
   "name": "python3"
  },
  "language_info": {
   "codemirror_mode": {
    "name": "ipython",
    "version": 3
   },
   "file_extension": ".py",
   "mimetype": "text/x-python",
   "name": "python",
   "nbconvert_exporter": "python",
   "pygments_lexer": "ipython3",
   "version": "3.6.5"
  }
 },
 "nbformat": 4,
 "nbformat_minor": 2
}
