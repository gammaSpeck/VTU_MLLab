{
 "cells": [
  {
   "cell_type": "code",
   "execution_count": null,
   "metadata": {},
   "outputs": [],
   "source": [
    "# This is a Algorithm for sentiment analysis. Able to distinguish between positive and negative reviews.\n",
    "from sklearn import metrics\n",
    "import pandas as pd\n",
    "\n",
    "msg = pd.read_csv('ds/lab6.csv',names=['message','label'])\n",
    "print('The dimensions of the dataset was',msg.shape)    # Just tells num of rows and columns\n",
    "msg['labelnum'] = msg.label.map({'pos':1,'neg':0})  # Just makes the + & - to 0 & 1 in attrb labelnum \n",
    "X = msg.message  # just contains the msg part\n",
    "Y = msg.labelnum # Contains 0:neg and 1:pos values for their respective comments in this new column \n",
    "print(msg)\n",
    "print(\"\\nNow dimensions are \",msg.shape) "
   ]
  },
  {
   "cell_type": "code",
   "execution_count": 43,
   "metadata": {},
   "outputs": [
    {
     "name": "stdout",
     "output_type": "stream",
     "text": [
      "1                  This is an amazing place\n",
      "2        I feel very good about these beers\n",
      "12                          I love to dance\n",
      "9                       My boss is horrible\n",
      "15             That is bad locality to stay\n",
      "4                      What an awesome view\n",
      "10                 This is an awesome place\n",
      "5             I do not like this restaurant\n",
      "11    I do not like the taste of this juice\n",
      "16           We will have good fun tomorrow\n",
      "17         I went to my enemy's house today\n",
      "3                      This is my best work\n",
      "8                      He is my sworn enemy\n",
      "Name: message, dtype: object\n"
     ]
    }
   ],
   "source": [
    "#splitting the dataset into train and test data\n",
    "# \"train_test_split\" is a simple func to easily split dataset into training and testing sections\n",
    "from sklearn.model_selection import train_test_split \n",
    "xtrain,xtest,ytrain,ytest = train_test_split(X,Y) # The split is random with approx 67% examples for training\n",
    "print(xtrain) # Just for you to see the training set "
   ]
  },
  {
   "cell_type": "code",
   "execution_count": 40,
   "metadata": {},
   "outputs": [
    {
     "name": "stdout",
     "output_type": "stream",
     "text": [
      "4     1\n",
      "6     0\n",
      "3     1\n",
      "13    0\n",
      "8     0\n",
      "Name: labelnum, dtype: int64\n"
     ]
    }
   ],
   "source": [
    "print(ytest)"
   ]
  },
  {
   "cell_type": "code",
   "execution_count": 44,
   "metadata": {},
   "outputs": [
    {
     "name": "stdout",
     "output_type": "stream",
     "text": [
      "['about', 'amazing', 'an', 'awesome', 'bad', 'beers', 'best', 'boss', 'dance', 'do', 'enemy', 'feel', 'fun', 'good', 'have', 'he', 'horrible', 'house', 'is', 'juice', 'like', 'locality', 'love', 'my', 'not', 'of', 'place', 'restaurant', 'stay', 'sworn', 'taste', 'that', 'the', 'these', 'this', 'to', 'today', 'tomorrow', 'very', 'view', 'we', 'went', 'what', 'will', 'work']\n",
      "\n",
      "    about  amazing  an  awesome  bad  beers  best  boss  dance  do  ...   to  \\\n",
      "0       0        1   1        0    0      0     0     0      0   0  ...    0   \n",
      "1       1        0   0        0    0      1     0     0      0   0  ...    0   \n",
      "2       0        0   0        0    0      0     0     0      1   0  ...    1   \n",
      "3       0        0   0        0    0      0     0     1      0   0  ...    0   \n",
      "4       0        0   0        0    1      0     0     0      0   0  ...    1   \n",
      "5       0        0   1        1    0      0     0     0      0   0  ...    0   \n",
      "6       0        0   1        1    0      0     0     0      0   0  ...    0   \n",
      "7       0        0   0        0    0      0     0     0      0   1  ...    0   \n",
      "8       0        0   0        0    0      0     0     0      0   1  ...    0   \n",
      "9       0        0   0        0    0      0     0     0      0   0  ...    0   \n",
      "10      0        0   0        0    0      0     0     0      0   0  ...    1   \n",
      "11      0        0   0        0    0      0     1     0      0   0  ...    0   \n",
      "12      0        0   0        0    0      0     0     0      0   0  ...    0   \n",
      "\n",
      "    today  tomorrow  very  view  we  went  what  will  work  \n",
      "0       0         0     0     0   0     0     0     0     0  \n",
      "1       0         0     1     0   0     0     0     0     0  \n",
      "2       0         0     0     0   0     0     0     0     0  \n",
      "3       0         0     0     0   0     0     0     0     0  \n",
      "4       0         0     0     0   0     0     0     0     0  \n",
      "5       0         0     0     1   0     0     1     0     0  \n",
      "6       0         0     0     0   0     0     0     0     0  \n",
      "7       0         0     0     0   0     0     0     0     0  \n",
      "8       0         0     0     0   0     0     0     0     0  \n",
      "9       0         1     0     0   1     0     0     1     0  \n",
      "10      1         0     0     0   0     1     0     0     0  \n",
      "11      0         0     0     0   0     0     0     0     1  \n",
      "12      0         0     0     0   0     0     0     0     0  \n",
      "\n",
      "[13 rows x 45 columns]\n"
     ]
    }
   ],
   "source": [
    "# Output of count vectoriser is a sparse matrix\n",
    "from sklearn.feature_extraction.text import CountVectorizer\n",
    "count_vect = CountVectorizer()                # This is the model we are gonna train !!\n",
    "xtrain_dtm = count_vect.fit_transform(xtrain) # We're modifying(transforming) training data to train OUR model later\n",
    "xtest_dtm = count_vect.transform(xtest)       # We're modifying(transforming) testing data to be tested later\n",
    "print(count_vect.get_feature_names())        # We're printing all encountered words in the xtrain once\n",
    "print()\n",
    "\n",
    "# We now make a dataframe with columns representind the word and the row has a 0 or a 1 depending on\n",
    "# if that word appeared in that sentence or not\n",
    "df = pd.DataFrame(xtrain_dtm.toarray(), columns=count_vect.get_feature_names())\n",
    "print(df)"
   ]
  },
  {
   "cell_type": "code",
   "execution_count": 47,
   "metadata": {},
   "outputs": [
    {
     "name": "stdout",
     "output_type": "stream",
     "text": [
      "Accuracy of the classifier is  0.6\n",
      "Confusion matrix\n",
      " [[1 2]\n",
      " [0 2]]\n",
      "Recall and precison \n",
      "1.0\n",
      "0.5\n"
     ]
    }
   ],
   "source": [
    "from sklearn.naive_bayes import MultinomialNB    # This is OUR Model\n",
    "\n",
    "clf = MultinomialNB().fit(xtrain_dtm,ytrain)     # Fitting the model with our modified training data\n",
    "predicted = clf.predict(xtest_dtm)               # Stores the predictions \n",
    "\n",
    "#printing accuracy metrics\n",
    "from sklearn import metrics\n",
    "# Accuracy is measured by comparing actual values to predicted\n",
    "print('Accuracy of the classifier is ',metrics.accuracy_score(ytest,predicted))\n",
    "print('Confusion matrix\\n', metrics.confusion_matrix(ytest,predicted))\n",
    "print('\\nRecall and precison ')\n",
    "print(metrics.recall_score(ytest,predicted))\n",
    "print(metrics.precision_score(ytest,predicted))"
   ]
  },
  {
   "cell_type": "code",
   "execution_count": null,
   "metadata": {},
   "outputs": [],
   "source": []
  },
  {
   "cell_type": "code",
   "execution_count": null,
   "metadata": {},
   "outputs": [],
   "source": []
  }
 ],
 "metadata": {
  "kernelspec": {
   "display_name": "Python 3",
   "language": "python",
   "name": "python3"
  },
  "language_info": {
   "codemirror_mode": {
    "name": "ipython",
    "version": 3
   },
   "file_extension": ".py",
   "mimetype": "text/x-python",
   "name": "python",
   "nbconvert_exporter": "python",
   "pygments_lexer": "ipython3",
   "version": "3.6.5"
  }
 },
 "nbformat": 4,
 "nbformat_minor": 2
}
