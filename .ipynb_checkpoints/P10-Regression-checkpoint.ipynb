{
 "cells": [
  {
   "cell_type": "code",
   "execution_count": 3,
   "metadata": {},
   "outputs": [],
   "source": [
    "import pandas as pd                     # For datasets\n",
    "import numpy as np                      # For arrays\n",
    "import matplotlib.pyplot as plt         # For graphs"
   ]
  },
  {
   "cell_type": "code",
   "execution_count": 52,
   "metadata": {},
   "outputs": [],
   "source": [
    "tou= 0.5 # This is just a constant to get a better fit between the dots and the curve\n",
    "\n",
    "X_train = np.array(list(range(3, 33)) ) # Make a list of numbers from 3 to 33 (3,4,5,...,32)\n",
    "X_train = X_train[:,np.newaxis]         # This makes a list of lists with one elm from X_train each\n",
    "y_train = np.array([1,2,1,2,1,1,3,4,5,4,5,6,5,6,7,8,9,10,11,11,12,11,11,10,12,11,11,10,9,8]) # Has 30 Elms\n",
    "\n",
    "X_test = np.array([i/10 for i in range(400)]) # Test data has 40 elms (0.0,0.1,...,39.9)\n",
    "X_test=X_test[:,np.newaxis]                   # This makes a list of lists with one elm from X_train each\n",
    "y_test = []                       # To store the predictions\n",
    "\n",
    "# Find euclidean distance between train and test points\n",
    "for r in range(len(X_test)):\n",
    "    wts = np.exp(-np.sum((X_train - X_test[r])**2,axis=1)/(2*tou)**2) # Basic DISTANCE formula/(2tou)squared\n",
    "    W = np.diag(wts)                                           \n",
    "    factor1 = np.linalg.inv(X_train.T.dot(W).dot(X_train))     # Find inverse of (X.T*W*X)\n",
    "    parameters = factor1.dot(X_train.T).dot(W).dot(y_train)    # Final values of theta\n",
    "    prediction = X_test[r].dot(parameters)              # This is the dot prod of test values and parameters\n",
    "    y_test.append(prediction)                   # Store this prediction in y_test \n",
    "\n"
   ]
  },
  {
   "cell_type": "code",
   "execution_count": 69,
   "metadata": {},
   "outputs": [
    {
     "data": {
      "image/png": "[encoded data removed]",
      "text/plain": [
       "<Figure size 432x288 with 1 Axes>"
      ]
     },
     "metadata": {},
     "output_type": "display_data"
    }
   ],
   "source": [
    "y_test = np.array(y_test)                      # Make the list into an array\n",
    "plt.plot(X_train.squeeze(), y_train, '*')      # Plot the Training data: The x & y parts (Blue Dots) \n",
    "plt.plot(X_test.squeeze(), y_test, '*')        # Plot the tested data\n",
    "plt.show()                                     # Simply displays the graph"
   ]
  },
  {
   "cell_type": "code",
   "execution_count": null,
   "metadata": {},
   "outputs": [],
   "source": []
  }
 ],
 "metadata": {
  "kernelspec": {
   "display_name": "Python 3",
   "language": "python",
   "name": "python3"
  },
  "language_info": {
   "codemirror_mode": {
    "name": "ipython",
    "version": 3
   },
   "file_extension": ".py",
   "mimetype": "text/x-python",
   "name": "python",
   "nbconvert_exporter": "python",
   "pygments_lexer": "ipython3",
   "version": "3.6.5"
  }
 },
 "nbformat": 4,
 "nbformat_minor": 2
}
