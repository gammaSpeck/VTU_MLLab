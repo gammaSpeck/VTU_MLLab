{
 "cells": [
  {
   "cell_type": "code",
   "execution_count": 1,
   "metadata": {},
   "outputs": [
    {
     "name": "stdout",
     "output_type": "stream",
     "text": [
      "Prediction for test data based on the train data using naives bayes\n",
      "['Sunny', 'Hot', 'High', 'Weak', nan]\n",
      "No\n",
      "['Sunny', 'Hot', 'High', 'Strong', nan]\n",
      "No\n",
      "['Overcast', 'Hot', 'High', 'Weak', nan]\n",
      "Yes\n",
      "['Rain', 'Mild', 'High', 'Weak', nan]\n",
      "Yes\n",
      "['Rain', 'Cool', 'Normal', 'Weak', nan]\n",
      "Yes\n",
      "['Rain', 'Cool', 'Normal', 'Strong', nan]\n",
      "Yes\n"
     ]
    }
   ],
   "source": [
    "import pandas as pd\n",
    "\n",
    "def preprocess(df):\n",
    "    count={}\n",
    "    nuniquevals={}\n",
    "    cls_count={}\n",
    "    for col in df.columns[:-1]:\n",
    "        count[col]={}\n",
    "        nuniquevals[col]=len(df.loc[:,col].unique())\n",
    "    for r in range(len(df)):\n",
    "        cls=df.iloc[r,-1]\n",
    "        if cls not in cls_count:\n",
    "            cls_count[cls]=0\n",
    "        cls_count[cls]+=1\n",
    "        for col in df.columns[:-1]:\n",
    "            val=df.loc[r,col]\n",
    "            if cls not in count[col]:\n",
    "                count[col][cls]={}\n",
    "            if val not in count[col][cls]:\n",
    "                count[col][cls][val]=0\n",
    "            count[col][cls][val]+=1\n",
    "    return count,nuniquevals,cls_count\n",
    "    \n",
    "df = pd.read_csv('/home/ishaan/Downloads/weatherFull.csv') \n",
    "count,nuniquevals,cls_count = preprocess(df)\n",
    "classes = list(df.iloc[:,-1].unique())\n",
    "\n",
    "\n",
    "test = pd.read_csv('/home/ishaan/Downloads/test.csv') \n",
    "print('Prediction for test data based on the train data using naives bayes')\n",
    "for r in range(len(test)):\n",
    "    pl=[]\n",
    "    for cls in classes:\n",
    "        p=1\n",
    "        for col in df.columns[:-1]:\n",
    "            val=df.loc[r,col]\n",
    "            if val in count[col][cls]:\n",
    "                p*=(count[col][cls][val]+1)/(cls_count[cls]+nuniquevals[col])\n",
    "            else:\n",
    "                p*=1/(cls_count[cls]+nuniquevals[col])\n",
    "        p*=cls_count[cls]/len(df)\n",
    "        pl.append(p)\n",
    "    predict_index = pl.index(max(pl))\n",
    "    print(list(test.loc[r]))\n",
    "    print(classes[predict_index])"
   ]
  },
  {
   "cell_type": "code",
   "execution_count": null,
   "metadata": {},
   "outputs": [],
   "source": []
  }
 ],
 "metadata": {
  "kernelspec": {
   "display_name": "Python 3",
   "language": "python",
   "name": "python3"
  },
  "language_info": {
   "codemirror_mode": {
    "name": "ipython",
    "version": 3
   },
   "file_extension": ".py",
   "mimetype": "text/x-python",
   "name": "python",
   "nbconvert_exporter": "python",
   "pygments_lexer": "ipython3",
   "version": "3.6.5"
  }
 },
 "nbformat": 4,
 "nbformat_minor": 2
}
